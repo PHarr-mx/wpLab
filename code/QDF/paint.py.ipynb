{
 "cells": [
  {
   "cell_type": "code",
   "execution_count": 1,
   "metadata": {
    "collapsed": true
   },
   "outputs": [],
   "source": [
    "import pandas as pd\n",
    "import numpy as np\n",
    "import matplotlib.pyplot as plt"
   ]
  },
  {
   "cell_type": "code",
   "execution_count": 2,
   "outputs": [
    {
     "data": {
      "text/plain": "   Unnamed: 0   维度  CR                                             平均迭代次数  \\\n0           0  100   1  [15.5, 40.666666666666664, 68.83333333333333, ...   \n\n                                              平均进化次数  \\\n0  [510.5, 1290.6666666666667, 2163.8333333333335...   \n\n                                                 成功率  \\\n0  [1.0, 1.0, 1.0, 1.0, 1.0, 1.0, 1.0, 1.0, 1.0, ...   \n\n                                                 最优值  \\\n0  [-3.1051242568681308, -6.210248748809166, -9.3...   \n\n                                                  时间  \n0  [0.007224933306376139, 0.028658215204874674, 0...  ",
      "text/html": "<div>\n<style scoped>\n    .dataframe tbody tr th:only-of-type {\n        vertical-align: middle;\n    }\n\n    .dataframe tbody tr th {\n        vertical-align: top;\n    }\n\n    .dataframe thead th {\n        text-align: right;\n    }\n</style>\n<table border=\"1\" class=\"dataframe\">\n  <thead>\n    <tr style=\"text-align: right;\">\n      <th></th>\n      <th>Unnamed: 0</th>\n      <th>维度</th>\n      <th>CR</th>\n      <th>平均迭代次数</th>\n      <th>平均进化次数</th>\n      <th>成功率</th>\n      <th>最优值</th>\n      <th>时间</th>\n    </tr>\n  </thead>\n  <tbody>\n    <tr>\n      <th>0</th>\n      <td>0</td>\n      <td>100</td>\n      <td>1</td>\n      <td>[15.5, 40.666666666666664, 68.83333333333333, ...</td>\n      <td>[510.5, 1290.6666666666667, 2163.8333333333335...</td>\n      <td>[1.0, 1.0, 1.0, 1.0, 1.0, 1.0, 1.0, 1.0, 1.0, ...</td>\n      <td>[-3.1051242568681308, -6.210248748809166, -9.3...</td>\n      <td>[0.007224933306376139, 0.028658215204874674, 0...</td>\n    </tr>\n  </tbody>\n</table>\n</div>"
     },
     "execution_count": 2,
     "metadata": {},
     "output_type": "execute_result"
    }
   ],
   "source": [
    "df=pd.read_csv(r\"./QDF_DWF_k_1_dim_100_acc_1e-06_time_scale_20230425test.csv\")\n",
    "df"
   ],
   "metadata": {
    "collapsed": false
   }
  },
  {
   "cell_type": "code",
   "execution_count": null,
   "outputs": [],
   "source": [],
   "metadata": {
    "collapsed": false
   }
  }
 ],
 "metadata": {
  "kernelspec": {
   "display_name": "Python 3",
   "language": "python",
   "name": "python3"
  },
  "language_info": {
   "codemirror_mode": {
    "name": "ipython",
    "version": 2
   },
   "file_extension": ".py",
   "mimetype": "text/x-python",
   "name": "python",
   "nbconvert_exporter": "python",
   "pygments_lexer": "ipython2",
   "version": "2.7.6"
  }
 },
 "nbformat": 4,
 "nbformat_minor": 0
}
